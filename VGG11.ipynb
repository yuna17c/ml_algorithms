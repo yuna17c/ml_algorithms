{
 "cells": [
  {
   "cell_type": "markdown",
   "metadata": {},
   "source": [
    "This notebook will first explore the VGG11 model with the MNIST dataset. Then, we will try to see the effect of training with augmented data in order to improve accuracies. "
   ]
  },
  {
   "cell_type": "code",
   "execution_count": 3,
   "metadata": {},
   "outputs": [],
   "source": [
    "import matplotlib.pyplot as plt\n",
    "import pandas as pd\n",
    "import torch\n",
    "import torchvision\n",
    "import torch.nn as nn\n",
    "import torch.optim as optim"
   ]
  },
  {
   "cell_type": "code",
   "execution_count": 85,
   "metadata": {},
   "outputs": [],
   "source": [
    "# load data and resize\n",
    "mnist_trainset = torchvision.datasets.MNIST(root='./data', train=True, download=True, transform=torchvision.transforms.Compose(\n",
    "        [torchvision.transforms.Resize(32), torchvision.transforms.ToTensor()]),)\n",
    "mnist_testset = torchvision.datasets.MNIST(root='./data', train=False, download=True, transform=torchvision.transforms.Compose(\n",
    "        [torchvision.transforms.Resize(32), torchvision.transforms.ToTensor()]),)\n",
    "\n",
    "train_loader = torch.utils.data.DataLoader(mnist_trainset, batch_size=1028)\n",
    "test_loader = torch.utils.data.DataLoader(mnist_testset, batch_size=1028)"
   ]
  },
  {
   "cell_type": "code",
   "execution_count": 86,
   "metadata": {},
   "outputs": [],
   "source": [
    "# define the VGG11 network\n",
    "class VGG11(nn.Module):\n",
    "    def __init__(self):\n",
    "        super(VGG11, self).__init__()\n",
    "        # convolutional layers \n",
    "        self.conv_layers = nn.Sequential(\n",
    "            nn.Conv2d(1, 64, 3, 1, 1),\n",
    "            nn.BatchNorm2d(64),\n",
    "            nn.ReLU(),\n",
    "            nn.MaxPool2d(kernel_size=2, stride=2),\n",
    "            nn.Conv2d(64, 128, 3, 1, 1),\n",
    "            nn.BatchNorm2d(128),\n",
    "            nn.ReLU(),\n",
    "            nn.MaxPool2d(kernel_size=2, stride=2),\n",
    "            nn.Conv2d(128, 256, 3, 1, 1),\n",
    "            nn.BatchNorm2d(256),\n",
    "            nn.ReLU(),\n",
    "            nn.Conv2d(256, 256, 3, 1, 1),\n",
    "            nn.BatchNorm2d(256),\n",
    "            nn.ReLU(),\n",
    "            nn.MaxPool2d(kernel_size=2, stride=2),\n",
    "            nn.Conv2d(256, 512, 3, 1, 1),\n",
    "            nn.BatchNorm2d(512),\n",
    "            nn.ReLU(),\n",
    "            nn.Conv2d(512, 512, 3, 1, 1),\n",
    "            nn.BatchNorm2d(512),\n",
    "            nn.ReLU(),\n",
    "            nn.MaxPool2d(kernel_size=2, stride=2),\n",
    "            nn.Conv2d(512, 512, 3, 1, 1),\n",
    "            nn.BatchNorm2d(512),\n",
    "            nn.ReLU(),\n",
    "            nn.Conv2d(512, 512, 3, 1, 1),\n",
    "            nn.BatchNorm2d(512),\n",
    "            nn.ReLU(),\n",
    "            nn.MaxPool2d(kernel_size=2, stride=2)\n",
    "        )\n",
    "        # fully connected layers\n",
    "        self.linear_layers = nn.Sequential(\n",
    "            nn.Linear(512, 4096),\n",
    "            nn.ReLU(),\n",
    "            nn.Dropout(0.5),\n",
    "            nn.Linear(4096, 4096),\n",
    "            nn.ReLU(),\n",
    "            nn.Dropout(0.5),\n",
    "            nn.Linear(4096, 10)\n",
    "        )\n",
    "        \n",
    "    def forward(self, x):\n",
    "        x = self.conv_layers(x)\n",
    "        x = torch.flatten(x, 1)\n",
    "        x = self.linear_layers(x)\n",
    "        return x"
   ]
  },
  {
   "cell_type": "code",
   "execution_count": 131,
   "metadata": {},
   "outputs": [],
   "source": [
    "model = VGG11()\n",
    "loss_func = nn.CrossEntropyLoss()\n",
    "optimizer = optim.Adam(model.parameters(), lr=0.0001)\n",
    "training_accuracy, training_loss, test_accuracy, test_loss = [], [], [], []\n",
    "\n",
    "\n",
    "def test():\n",
    "    model.eval()\n",
    "    loss_sum = 0\n",
    "    n_correct = 0\n",
    "    with torch.no_grad():\n",
    "        for x, y in test_loader:\n",
    "            output = model(x)\n",
    "            loss = loss_func(output, y)\n",
    "            loss_sum += loss.item()\n",
    "            _, pred = torch.max(output.data, 1)\n",
    "            n_correct += (pred == y).sum().item()\n",
    "    avg_loss = loss_sum/len(test_loader)\n",
    "    acc = n_correct/len(test_loader.dataset)\n",
    "    print(\"test accuracy: {:.4f}\".format(acc))\n",
    "    print(\"test loss: {:.4f}\".format(avg_loss))\n",
    "    test_accuracy.append(acc)\n",
    "    test_loss.append(avg_loss)\n",
    "\n",
    "\n",
    "def train(loader):\n",
    "    n_correct = 0\n",
    "    loss_sum = 0\n",
    "    model.train()\n",
    "    batch_size = len(loader)\n",
    "    for i, (x, y) in enumerate(loader):\n",
    "        optimizer.zero_grad()\n",
    "        output = model(x)\n",
    "\n",
    "        loss = loss_func(output, y)\n",
    "        loss.backward()\n",
    "        optimizer.step()\n",
    "\n",
    "        _, pred = torch.max(output.data, 1)\n",
    "        n_correct += (pred == y).sum().item()\n",
    "        loss_sum += loss.item()\n",
    "        if (i+1)%10==0:\n",
    "            print ('Batch [{}/{}], Loss: {:.4f}'.format(i + 1, batch_size, loss.item()))\n",
    "    # calculate training loss and accuracy \n",
    "    acc = n_correct/len(loader.dataset)\n",
    "    avg_loss = loss_sum/batch_size\n",
    "    print(\"training accuracy: {:.4f}\".format(acc))\n",
    "    print(\"training loss: {:.4f}\".format(avg_loss))\n",
    "    training_accuracy.append(acc)\n",
    "    training_loss.append(avg_loss)\n",
    "    \n",
    "\n",
    "def run_model(epoch):\n",
    "    for i in range(epoch):\n",
    "        print(\"Epoch [{}/{}]\".format(i+1, epoch))\n",
    "        train(train_loader)\n",
    "        test()\n"
   ]
  },
  {
   "cell_type": "code",
   "execution_count": null,
   "metadata": {},
   "outputs": [],
   "source": [
    "\n",
    "run_model(5)"
   ]
  },
  {
   "cell_type": "code",
   "execution_count": 91,
   "metadata": {},
   "outputs": [],
   "source": [
    "torch.save({\n",
    "            'epoch': 5,\n",
    "            'model_state_dict': model.state_dict(),\n",
    "            'optimizer_state_dict': optimizer.state_dict(),\n",
    "            'loss': loss_func,\n",
    "            }, '../A3/model.pth')"
   ]
  },
  {
   "cell_type": "code",
   "execution_count": 96,
   "metadata": {},
   "outputs": [
    {
     "data": {
      "image/png": "[encoded data removed]",
      "text/plain": [
       "<Figure size 432x288 with 1 Axes>"
      ]
     },
     "metadata": {
      "needs_background": "light"
     },
     "output_type": "display_data"
    }
   ],
   "source": [
    "epochs_x = [1,2,3,4,5]\n",
    "# plot training loss\n",
    "plt.plot(epochs_x, training_loss)\n",
    "plt.title('Training Loss vs Number of Epochs')\n",
    "plt.ylabel('Training Loss')\n",
    "plt.xlabel('Epoch')\n",
    "plt.legend(['Train'], loc='upper left')\n",
    "plt.grid()\n",
    "plt.show()"
   ]
  },
  {
   "cell_type": "code",
   "execution_count": 97,
   "metadata": {},
   "outputs": [
    {
     "data": {
      "image/png": "[encoded data removed]",
      "text/plain": [
       "<Figure size 432x288 with 1 Axes>"
      ]
     },
     "metadata": {
      "needs_background": "light"
     },
     "output_type": "display_data"
    }
   ],
   "source": [
    "# plot training loss\n",
    "plt.plot(epochs_x, test_loss)\n",
    "plt.title('Test Loss vs Number of Epochs')\n",
    "plt.ylabel('Test Loss')\n",
    "plt.xlabel('Epoch')\n",
    "plt.legend(['Test'], loc='upper left')\n",
    "plt.grid()\n",
    "plt.show()"
   ]
  },
  {
   "cell_type": "code",
   "execution_count": 98,
   "metadata": {},
   "outputs": [
    {
     "data": {
      "image/png": "[encoded data removed]",
      "text/plain": [
       "<Figure size 432x288 with 1 Axes>"
      ]
     },
     "metadata": {
      "needs_background": "light"
     },
     "output_type": "display_data"
    }
   ],
   "source": [
    "plt.plot(epochs_x, training_accuracy)\n",
    "plt.title('Training Accuracy vs Number of Epochs')\n",
    "plt.ylabel('Training Accuracy')\n",
    "plt.xlabel('Epoch')\n",
    "plt.legend(['Train'], loc='upper left')\n",
    "plt.grid()\n",
    "plt.show()"
   ]
  },
  {
   "cell_type": "code",
   "execution_count": 99,
   "metadata": {},
   "outputs": [
    {
     "data": {
      "image/png": "[encoded data removed]",
      "text/plain": [
       "<Figure size 432x288 with 1 Axes>"
      ]
     },
     "metadata": {
      "needs_background": "light"
     },
     "output_type": "display_data"
    }
   ],
   "source": [
    "plt.plot(epochs_x, test_accuracy)\n",
    "plt.title('Test Accuracy vs Number of Epochs')\n",
    "plt.ylabel('Test Accuracy')\n",
    "plt.xlabel('Epoch')\n",
    "plt.legend(['Test'], loc='upper left')\n",
    "plt.grid()\n",
    "plt.show()"
   ]
  },
  {
   "cell_type": "markdown",
   "metadata": {},
   "source": [
    "First, flip the training images vertically and horizontally and test the model"
   ]
  },
  {
   "cell_type": "code",
   "execution_count": 4,
   "metadata": {},
   "outputs": [],
   "source": [
    "# load data,  resize, and flip\n",
    "test_flip_vert = torchvision.datasets.MNIST(root='./data', train=False, download=True, transform=torchvision.transforms.Compose(\n",
    "        [torchvision.transforms.Resize(32), torchvision.transforms.ToTensor(),torchvision.transforms.RandomVerticalFlip(p=1)]),)\n",
    "test_flip_hori = torchvision.datasets.MNIST(root='./data', train=False, download=True, transform=torchvision.transforms.Compose(\n",
    "        [torchvision.transforms.Resize(32), torchvision.transforms.ToTensor(),torchvision.transforms.RandomHorizontalFlip(p=1)]),)\n",
    "\n",
    "vert_loader = torch.utils.data.DataLoader(test_flip_vert, batch_size=1028)\n",
    "hori_loader = torch.utils.data.DataLoader(test_flip_hori, batch_size=1028)"
   ]
  },
  {
   "cell_type": "code",
   "execution_count": null,
   "metadata": {},
   "outputs": [],
   "source": [
    "model.eval()\n",
    "def test_transformed(loader):\n",
    "    loss_sum = 0\n",
    "    n_correct = 0\n",
    "    with torch.no_grad():\n",
    "        for x, y in loader:\n",
    "            output = model(x)\n",
    "            loss = loss_func(output, y)\n",
    "            loss_sum += loss.item()\n",
    "            _, pred = torch.max(output.data, 1)\n",
    "            n_correct += (pred == y).sum().item()\n",
    "    avg_loss = loss_sum/len(loader)\n",
    "    acc = n_correct/len(loader.dataset)\n",
    "    print(\"test accuracy: {:.4f}\".format(acc))\n",
    "    print(\"test loss: {:.4f}\".format(avg_loss))"
   ]
  },
  {
   "cell_type": "code",
   "execution_count": 101,
   "metadata": {},
   "outputs": [
    {
     "name": "stdout",
     "output_type": "stream",
     "text": [
      "test accuracy: 0.3968\n",
      "test loss: 6.3348\n",
      "test accuracy: 0.4090\n",
      "test loss: 5.7250\n"
     ]
    }
   ],
   "source": [
    "# horizontally flipped\n",
    "test_transformed(hori_loader)\n",
    "# vertical flipped\n",
    "test_transformed(vert_loader)"
   ]
  },
  {
   "cell_type": "markdown",
   "metadata": {},
   "source": [
    "Next, add gaussian noise with different variances to the training images and test the model. "
   ]
  },
  {
   "cell_type": "code",
   "execution_count": 112,
   "metadata": {},
   "outputs": [],
   "source": [
    "# Gaussian noise\n",
    "test_blur_100 = torchvision.datasets.MNIST(root='./data', train=False, download=True, transform=torchvision.transforms.Compose(\n",
    "        [torchvision.transforms.Resize(32),\n",
    "         torchvision.transforms.ToTensor(),\n",
    "         torchvision.transforms.Lambda(lambda x : x + 0.01*torch.randn_like(x))]),)\n",
    "test_blur_10 = torchvision.datasets.MNIST(root='./data', train=False, download=True, transform=torchvision.transforms.Compose(\n",
    "        [torchvision.transforms.Resize(32),\n",
    "         torchvision.transforms.ToTensor(),\n",
    "         torchvision.transforms.Lambda(lambda x : x + 0.1*torch.randn_like(x))]),)\n",
    "test_blur_1 = torchvision.datasets.MNIST(root='./data', train=False, download=True, transform=torchvision.transforms.Compose(\n",
    "        [torchvision.transforms.Resize(32),\n",
    "         torchvision.transforms.ToTensor(),\n",
    "         torchvision.transforms.Lambda(lambda x : x + 1*torch.randn_like(x))]),)\n",
    "\n",
    "blur_1_loader = torch.utils.data.DataLoader(test_blur_1, batch_size=1028)\n",
    "blur_10_loader = torch.utils.data.DataLoader(test_blur_10, batch_size=1028)\n",
    "blur_100_loader = torch.utils.data.DataLoader(test_blur_100, batch_size=1028)"
   ]
  },
  {
   "cell_type": "code",
   "execution_count": 113,
   "metadata": {},
   "outputs": [
    {
     "name": "stdout",
     "output_type": "stream",
     "text": [
      "Gaussian Noise with variance 1:\n",
      "test accuracy: 0.0974\n",
      "test loss: 46.7309\n",
      "-----\n",
      "Gaussian Noise with variance 0.1:\n",
      "test accuracy: 0.9008\n",
      "test loss: 0.4538\n",
      "-----\n",
      "Gaussian Noise with variance 0.01:\n",
      "test accuracy: 0.9804\n",
      "test loss: 0.0779\n"
     ]
    }
   ],
   "source": [
    "print(\"Gaussian Noise with variance 1:\")\n",
    "test_transformed(blur_1_loader)\n",
    "print(\"-----\")\n",
    "print(\"Gaussian Noise with variance 0.1:\")\n",
    "test_transformed(blur_10_loader)\n",
    "print(\"-----\")\n",
    "print(\"Gaussian Noise with variance 0.01:\")\n",
    "test_transformed(blur_100_loader)"
   ]
  },
  {
   "cell_type": "markdown",
   "metadata": {},
   "source": [
    "The test accuracies for flipped and blurred images are significantly lower. Now, to improve these accuracies, we can train the model with augmented data. "
   ]
  },
  {
   "cell_type": "code",
   "execution_count": 133,
   "metadata": {},
   "outputs": [],
   "source": [
    "from torch.utils.data import ConcatDataset\n",
    "\n",
    "updated_train = torchvision.datasets.MNIST(root='./data', train=True, download=True, transform=torchvision.transforms.Compose(\n",
    "        [torchvision.transforms.Resize(32),\n",
    "         torchvision.transforms.RandomHorizontalFlip(0.3),\n",
    "         torchvision.transforms.RandomVerticalFlip(0.3),\n",
    "         torchvision.transforms.ToTensor()\n",
    "         ]),)\n",
    "\n",
    "blurred_train = torchvision.datasets.MNIST(root='./data', train=True, download=True, transform=torchvision.transforms.Compose(\n",
    "    [torchvision.transforms.Resize(32),\n",
    "     torchvision.transforms.GaussianBlur(kernel_size=(5, 9), sigma=(0.1, 1.)),\n",
    "     torchvision.transforms.ToTensor()\n",
    "     ]),)\n",
    "\n",
    "\n",
    "blurred_train_subset, garbage = torch.utils.data.random_split(blurred_train, [15000, 45000])\n",
    "augmented_train = ConcatDataset([updated_train,blurred_train_subset])\n",
    "\n",
    "training_accuracy, training_loss, test_accuracy, test_loss = [], [], [], []\n",
    "augmented_train_loader = torch.utils.data.DataLoader(augmented_train, batch_size=1028)"
   ]
  },
  {
   "cell_type": "code",
   "execution_count": 135,
   "metadata": {},
   "outputs": [
    {
     "name": "stdout",
     "output_type": "stream",
     "text": [
      "Epoch [1/3]\n",
      "Batch [10/73], Loss: 0.0553\n",
      "Batch [20/73], Loss: 0.0693\n",
      "Batch [30/73], Loss: 0.0662\n",
      "Batch [40/73], Loss: 0.0659\n",
      "Batch [50/73], Loss: 0.0748\n",
      "Batch [60/73], Loss: 0.0497\n",
      "Batch [70/73], Loss: 0.0226\n",
      "training accuracy: 0.9802\n",
      "training loss: 0.0629\n",
      "Epoch [2/3]\n",
      "Batch [10/73], Loss: 0.0620\n",
      "Batch [20/73], Loss: 0.0636\n",
      "Batch [30/73], Loss: 0.0712\n",
      "Batch [40/73], Loss: 0.0520\n",
      "Batch [50/73], Loss: 0.0675\n",
      "Batch [60/73], Loss: 0.0373\n",
      "Batch [70/73], Loss: 0.0072\n",
      "training accuracy: 0.9805\n",
      "training loss: 0.0629\n",
      "Epoch [3/3]\n",
      "Batch [10/73], Loss: 0.0554\n",
      "Batch [20/73], Loss: 0.0563\n",
      "Batch [30/73], Loss: 0.0530\n",
      "Batch [40/73], Loss: 0.0368\n",
      "Batch [50/73], Loss: 0.0384\n",
      "Batch [60/73], Loss: 0.0321\n",
      "Batch [70/73], Loss: 0.0095\n",
      "training accuracy: 0.9833\n",
      "training loss: 0.0526\n",
      "Horizontally flipped:\n",
      "test accuracy: 0.9120\n",
      "test loss: 0.3495\n",
      "-----\n",
      "Vertically flipped:\n",
      "test accuracy: 0.9028\n",
      "test loss: 0.3852\n",
      "-----\n",
      "Gaussian Noise with variance 1:\n",
      "test accuracy: 0.3334\n",
      "test loss: 3.3060\n",
      "-----\n",
      "Gaussian Noise with variance 0.1:\n",
      "test accuracy: 0.9820\n",
      "test loss: 0.0580\n",
      "-----\n",
      "Gaussian Noise with variance 0.01:\n",
      "test accuracy: 0.9865\n",
      "test loss: 0.0443\n"
     ]
    }
   ],
   "source": [
    "def run_augmented(epoch):\n",
    "    for i in range(epoch):\n",
    "        print(\"Epoch [{}/{}]\".format(i+1, epoch))\n",
    "        train(augmented_train_loader)\n",
    "\n",
    "run_augmented(3)\n",
    "print(\"Horizontally flipped:\")\n",
    "test_transformed(hori_loader)\n",
    "print(\"-----\")\n",
    "print(\"Vertically flipped:\")\n",
    "test_transformed(vert_loader)\n",
    "print(\"-----\")\n",
    "print(\"Gaussian Noise with variance 1:\")\n",
    "test_transformed(blur_1_loader)\n",
    "print(\"-----\")\n",
    "print(\"Gaussian Noise with variance 0.1:\")\n",
    "test_transformed(blur_10_loader)\n",
    "print(\"-----\")\n",
    "print(\"Gaussian Noise with variance 0.01:\")\n",
    "test_transformed(blur_100_loader)"
   ]
  },
  {
   "cell_type": "markdown",
   "metadata": {},
   "source": [
    "We can see that the accuracies have increased greatly with augmented data training. "
   ]
  },
  {
   "cell_type": "code",
   "execution_count": 136,
   "metadata": {},
   "outputs": [],
   "source": [
    "torch.save({\n",
    "            'epoch': 3,\n",
    "            'model_state_dict': model.state_dict(),\n",
    "            'optimizer_state_dict': optimizer.state_dict(),\n",
    "            'loss': loss_func,\n",
    "            }, '../A3/augmented_model.pth')"
   ]
  }
 ],
 "metadata": {
  "kernelspec": {
   "display_name": "Python 3",
   "language": "python",
   "name": "python3"
  },
  "language_info": {
   "codemirror_mode": {
    "name": "ipython",
    "version": 3
   },
   "file_extension": ".py",
   "mimetype": "text/x-python",
   "name": "python",
   "nbconvert_exporter": "python",
   "pygments_lexer": "ipython3",
   "version": "3.9.5"
  }
 },
 "nbformat": 4,
 "nbformat_minor": 2
}
